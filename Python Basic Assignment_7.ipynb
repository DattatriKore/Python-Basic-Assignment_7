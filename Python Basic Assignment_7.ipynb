{
 "cells": [
  {
   "cell_type": "markdown",
   "id": "fb3cf0f9",
   "metadata": {},
   "source": [
    "Q.[1] : What is the name of the feature responsible for generating Regex objects?\n",
    "\n",
    "Ans:-  import re\n",
    "\n",
    "       re.compile(\"dattatri\") \n",
    "       \n",
    "    -> Compile a regular expression pattern, returning a Pattern object."
   ]
  },
  {
   "cell_type": "code",
   "execution_count": 3,
   "id": "f31314c1",
   "metadata": {},
   "outputs": [
    {
     "data": {
      "text/plain": [
       "re.compile(r'dattatri', re.UNICODE)"
      ]
     },
     "execution_count": 3,
     "metadata": {},
     "output_type": "execute_result"
    }
   ],
   "source": [
    "import re\n",
    "re.compile(\"dattatri\")"
   ]
  },
  {
   "cell_type": "markdown",
   "id": "53d3ef36",
   "metadata": {},
   "source": [
    "Q.[2] : Why do raw strings often appear in Regex objects?\n",
    "\n",
    "Ans:- Raw strings are used so that backslashes do not have to be escaped."
   ]
  },
  {
   "cell_type": "markdown",
   "id": "a50ca00f",
   "metadata": {},
   "source": [
    "Q.[3] : What is the return value of the search() method?\n",
    "\n",
    "Ans:-  The search() method returns Match objects."
   ]
  },
  {
   "cell_type": "markdown",
   "id": "35d6bfec",
   "metadata": {},
   "source": [
    "Q.[4] : From a Match item, how do you get the actual strings that match the pattern?\n",
    "\n",
    "Ans:-  The group() method returns strings of the matched text."
   ]
  },
  {
   "cell_type": "code",
   "execution_count": 16,
   "id": "b03a48f5",
   "metadata": {},
   "outputs": [
    {
     "name": "stdout",
     "output_type": "stream",
     "text": [
      "Phone number found: 219-200-2429\n"
     ]
    }
   ],
   "source": [
    "phoneNumRegex = re.compile(r'\\d\\d\\d-\\d\\d\\d-\\d\\d\\d\\d')\n",
    "mo = phoneNumRegex.search('My number is 219-200-2429.')\n",
    "print('Phone number found: ' + mo.group())"
   ]
  },
  {
   "cell_type": "markdown",
   "id": "2daf1bf0",
   "metadata": {},
   "source": [
    "Q.[5] : In the regex which created from the r'(\\d\\d\\d)-(\\d\\d\\d-\\d\\d\\d\\d)', what does group zero cover? Group 2?             Group 1?\n",
    "\n",
    "Ans:-  Group 0 is the entire match, group 1 covers the first set of parentheses, and group 2 covers the second set of              parentheses."
   ]
  },
  {
   "cell_type": "code",
   "execution_count": 33,
   "id": "87d14031",
   "metadata": {},
   "outputs": [
    {
     "data": {
      "text/plain": [
       "'219-200-2429'"
      ]
     },
     "execution_count": 33,
     "metadata": {},
     "output_type": "execute_result"
    }
   ],
   "source": [
    "phoneNumRegex = re.compile(r'(\\d\\d\\d)-(\\d\\d\\d-\\d\\d\\d\\d)')\n",
    "moNum = phoneNumRegex.search('my number is 219-200-2429')\n",
    "moNum.group(0)"
   ]
  },
  {
   "cell_type": "code",
   "execution_count": 34,
   "id": "d0d71713",
   "metadata": {},
   "outputs": [
    {
     "data": {
      "text/plain": [
       "'219'"
      ]
     },
     "execution_count": 34,
     "metadata": {},
     "output_type": "execute_result"
    }
   ],
   "source": [
    "moNum.group(1)"
   ]
  },
  {
   "cell_type": "code",
   "execution_count": 35,
   "id": "11c447c6",
   "metadata": {},
   "outputs": [
    {
     "data": {
      "text/plain": [
       "'200-2429'"
      ]
     },
     "execution_count": 35,
     "metadata": {},
     "output_type": "execute_result"
    }
   ],
   "source": [
    "moNum.group(2)"
   ]
  },
  {
   "cell_type": "markdown",
   "id": "38a3b3c2",
   "metadata": {},
   "source": [
    "Q.[6] : In standard expression syntax, parentheses and intervals have distinct meanings. How can you tell\n",
    "        a regex that you want it to fit real parentheses and periods?\n",
    "        \n",
    "Ans:-   Periods and parentheses can be escaped with a backslash: \\., \\(, and \\)."
   ]
  },
  {
   "cell_type": "markdown",
   "id": "01dc9054",
   "metadata": {},
   "source": [
    "Q.[7] : The findall() method returns a string list or a list of string tuples. What causes it to return one of the two             options?\n",
    "\n",
    "Ans:-   If the regex has no groups, a list of strings is returned. If the regex has groups, a list of tuples of strings is         returned."
   ]
  },
  {
   "cell_type": "markdown",
   "id": "669f270e",
   "metadata": {},
   "source": [
    "Q.[8] : In standard expressions, what does the | character mean?\n",
    "\n",
    "Ans:- The  \"|\"  character is called a pipe.    \n",
    "\n",
    "     A|B, creates an RE that will match either A or B."
   ]
  },
  {
   "cell_type": "code",
   "execution_count": 37,
   "id": "19ec62e5",
   "metadata": {},
   "outputs": [
    {
     "data": {
      "text/plain": [
       "'Banana'"
      ]
     },
     "execution_count": 37,
     "metadata": {},
     "output_type": "execute_result"
    }
   ],
   "source": [
    "fruitRegex = re.compile (r'Banana|Apple Fruit')\n",
    "mo2 = fruitRegex.search('Banana and Apple Fruit')\n",
    "mo2.group()"
   ]
  },
  {
   "cell_type": "markdown",
   "id": "a94aec85",
   "metadata": {},
   "source": [
    "Q.[9] : In regular expressions, what does the character stand for?\n",
    "\n",
    "Ans:-  The ? character can either mean “match zero or one of the preceding group” or be used to signify nongreedy matching."
   ]
  },
  {
   "cell_type": "code",
   "execution_count": 39,
   "id": "63824a7d",
   "metadata": {},
   "outputs": [
    {
     "data": {
      "text/plain": [
       "'Batsman'"
      ]
     },
     "execution_count": 39,
     "metadata": {},
     "output_type": "execute_result"
    }
   ],
   "source": [
    "batRegex = re.compile(r'Bats(wo)?man')\n",
    "mo1 = batRegex.search('The Adventures of Batsman')\n",
    "mo1.group()"
   ]
  },
  {
   "cell_type": "markdown",
   "id": "ae479a0c",
   "metadata": {},
   "source": [
    "Q.[10] : In regular expressions, what is the difference between the + and * characters?\n",
    "\n",
    "Ans:-  The + matches one or more. The * matches zero or more."
   ]
  },
  {
   "cell_type": "markdown",
   "id": "f7688268",
   "metadata": {},
   "source": [
    "Q.[11] : What is the difference between {4} and {4,5} in regular expression?\n",
    "\n",
    "Ans:-  The {4} matches exactly four instances of the preceding group. The {4,5} matches between four and five instances."
   ]
  },
  {
   "cell_type": "markdown",
   "id": "78677297",
   "metadata": {},
   "source": [
    "Q.[12] : What do you mean by the \\d, \\w, and \\s shorthand character classes signify in regular expressions?\n",
    "\n",
    "Ans:- \n",
    "     \n",
    "     \\d -> stands for single digit, Any numeric digit from 0 to 9.\n",
    "\n",
    "     \\w -> stands for single word, Any letter, numeric digit, or the underscore character. \n",
    "     \n",
    "     \\s -> stands for single space character, Any space, tab, or newline character. "
   ]
  },
  {
   "cell_type": "markdown",
   "id": "8a910997",
   "metadata": {},
   "source": [
    "Q.[13] : What do means by \\D, \\W, and \\S shorthand character classes signify in regular expressions?\n",
    "\n",
    "Ans:-  \n",
    "\n",
    "    \\D -> Any character that is not a numeric digit from 0 to 9.\n",
    "    \n",
    "    \\W -> Any character that is not a letter, numeric digit, or the underscore character.\n",
    "    \n",
    "    \\S -> Any character that is not a space, tab, or newline."
   ]
  },
  {
   "cell_type": "markdown",
   "id": "046f4532",
   "metadata": {},
   "source": [
    "Q.[14] : What is the difference between .*? and .*?\n",
    "\n",
    "Ans:- \n",
    "\n",
    "      The .* performs a greedy match\n",
    "      \n",
    "      The .*? performs a nongreedy match"
   ]
  },
  {
   "cell_type": "markdown",
   "id": "3b22f775",
   "metadata": {},
   "source": [
    "Q.[15] : What is the syntax for matching both numbers and lowercase letters with a character class?\n",
    "\n",
    "Ans:- Either [0-9a-z] or [a-z0-9]"
   ]
  },
  {
   "cell_type": "code",
   "execution_count": 11,
   "id": "2c3f967b",
   "metadata": {},
   "outputs": [
    {
     "data": {
      "text/plain": [
       "'1'"
      ]
     },
     "execution_count": 11,
     "metadata": {},
     "output_type": "execute_result"
    }
   ],
   "source": [
    "import re\n",
    "reg1 = re.compile(r'[0-9a-z]')\n",
    "reg2 = re.compile(r'[a-z0-9]')\n",
    "\n",
    "mo1 = reg1.search('100 times I am Reading  this for 100 th time')\n",
    "mo1.group()"
   ]
  },
  {
   "cell_type": "code",
   "execution_count": 10,
   "id": "52fb6836",
   "metadata": {},
   "outputs": [
    {
     "data": {
      "text/plain": [
       "'t'"
      ]
     },
     "execution_count": 10,
     "metadata": {},
     "output_type": "execute_result"
    }
   ],
   "source": [
    "mo1 = reg2.search('times I am Reading  this for 100 th time')\n",
    "mo1.group()"
   ]
  },
  {
   "cell_type": "markdown",
   "id": "6864b94a",
   "metadata": {},
   "source": [
    "Q.[16] : What is the procedure for making a normal expression in regax case insensitive?\n",
    "\n",
    "Ans:- Passing re.I or re.IGNORECASE as the second argument to re.compile() will make the matching case insensitive."
   ]
  },
  {
   "cell_type": "markdown",
   "id": "2f4c89c1",
   "metadata": {},
   "source": [
    "Q.[17] : What does the . character normally match? What does it match if re.DOTALL is passed as 2nd argument in                      re.compile()?\n",
    "    \n",
    "Ans:-    \n",
    "      \n",
    "     The . character normally matches any character except the newline character. \n",
    "       \n",
    "     If re.DOTALL is passed as the second argument to re.compile(), then the dot will also match newline characters."
   ]
  },
  {
   "cell_type": "markdown",
   "id": "c62a5500",
   "metadata": {},
   "source": [
    "Q.[18] : If numReg = re.compile(r'\\d+'), what will numRegex.sub('X','11 drummers, 10 pipers, five rings, 4 hen') return?\n",
    "\n",
    "Ans:- 'X drummers, X pipers, five rings, X hen'"
   ]
  },
  {
   "cell_type": "code",
   "execution_count": 13,
   "id": "7c081e27",
   "metadata": {},
   "outputs": [
    {
     "data": {
      "text/plain": [
       "'X drummers, X pipers, five rings, X hen'"
      ]
     },
     "execution_count": 13,
     "metadata": {},
     "output_type": "execute_result"
    }
   ],
   "source": [
    "numRegex = re.compile(r'\\d+')\n",
    "mo1 = numRegex.sub('X', '11 drummers, 10 pipers, five rings, 4 hen')\n",
    "mo1"
   ]
  },
  {
   "cell_type": "markdown",
   "id": "773f2f45",
   "metadata": {},
   "source": [
    "Q.[19] : What does passing re.VERBOSE as the 2nd argument to re.compile() allow to do?\n",
    "\n",
    "Ans:- The re.VERBOSE argument allows you to add whitespace and comments to the string passed to re.compile()."
   ]
  },
  {
   "cell_type": "markdown",
   "id": "67b463dc",
   "metadata": {},
   "source": [
    "Q.[20] : How would you write a regex that match a number with comma for every three digits? It must match the given                  following:\n",
    "\n",
    "        '42'\n",
    "        '1,234'\n",
    "        '6,368,745'\n",
    "        \n",
    "         but not the following:\n",
    "         \n",
    "        '12,34,567'(which has only two digits between the commas)\n",
    "        '1234'(which lacks commas)\n",
    "        \n",
    "Ans:-        "
   ]
  },
  {
   "cell_type": "code",
   "execution_count": 14,
   "id": "dbb6e3f9",
   "metadata": {},
   "outputs": [
    {
     "data": {
      "text/plain": [
       "'42'"
      ]
     },
     "execution_count": 14,
     "metadata": {},
     "output_type": "execute_result"
    }
   ],
   "source": [
    "reg1 = re.compile(r'^\\d{1,3}(,\\d{3})*$')\n",
    "mo1 = reg1.search('42')\n",
    "mo1.group()"
   ]
  },
  {
   "cell_type": "code",
   "execution_count": 15,
   "id": "804e57db",
   "metadata": {},
   "outputs": [
    {
     "data": {
      "text/plain": [
       "'1,234'"
      ]
     },
     "execution_count": 15,
     "metadata": {},
     "output_type": "execute_result"
    }
   ],
   "source": [
    "reg1 = re.compile(r'^\\d{1,3}(,\\d{3})*$')\n",
    "mo1 = reg1.search('1,234')\n",
    "mo1.group()"
   ]
  },
  {
   "cell_type": "code",
   "execution_count": 16,
   "id": "3a38f2ee",
   "metadata": {},
   "outputs": [
    {
     "data": {
      "text/plain": [
       "'6,368,745'"
      ]
     },
     "execution_count": 16,
     "metadata": {},
     "output_type": "execute_result"
    }
   ],
   "source": [
    "reg1 = re.compile(r'^\\d{1,3}(,\\d{3})*$')\n",
    "mo1 = reg1.search('6,368,745')\n",
    "mo1.group()"
   ]
  },
  {
   "cell_type": "markdown",
   "id": "1b5dec65",
   "metadata": {},
   "source": [
    "Q.[21] : How would you write a regex that matches the full name of someone whose last name is Watanabe? You can assume that          the first name that comes before it will always be one word that begins with a capital letter. The regex must              match the following:\n",
    "\n",
    "         'Haruto Watanabe'\n",
    "         'Alice Watanabe'\n",
    "         'RoboCop Watanabe'\n",
    "\n",
    "         but not the following:\n",
    "\n",
    "         'haruto Watanabe' (where the first name is not capitalized)\n",
    "         'Mr. Watanabe' (where the preceding word has a nonletter character)\n",
    "         'Watanabe' (which has no first name)\n",
    "         'Haruto watanabe' (where Watanabe is not capitalized)\n",
    "         \n",
    "Ans:-        "
   ]
  },
  {
   "cell_type": "code",
   "execution_count": 19,
   "id": "136ca6e0",
   "metadata": {},
   "outputs": [
    {
     "data": {
      "text/plain": [
       "'Haruto Watanabe'"
      ]
     },
     "execution_count": 19,
     "metadata": {},
     "output_type": "execute_result"
    }
   ],
   "source": [
    "name = re.compile(r'[A-Z][a-z]*\\sWatanabe')\n",
    "reg2 = re.compile(r'^\\d{1,3}(,\\d{haruto Watanabe3})*$')\n",
    "mo2 = name.search('Haruto Watanabe')\n",
    "mo2.group()"
   ]
  },
  {
   "cell_type": "code",
   "execution_count": 20,
   "id": "7dcad45c",
   "metadata": {},
   "outputs": [
    {
     "data": {
      "text/plain": [
       "'Alice Watanabe'"
      ]
     },
     "execution_count": 20,
     "metadata": {},
     "output_type": "execute_result"
    }
   ],
   "source": [
    "name = re.compile(r'[A-Z][a-z]*\\sWatanabe')\n",
    "reg2 = re.compile(r'^\\d{1,3}(,\\d{3})*$')\n",
    "mo2 = name.search('Alice Watanabe')\n",
    "mo2.group()"
   ]
  },
  {
   "cell_type": "code",
   "execution_count": 21,
   "id": "70c33442",
   "metadata": {},
   "outputs": [
    {
     "data": {
      "text/plain": [
       "'Robocop Watanabe'"
      ]
     },
     "execution_count": 21,
     "metadata": {},
     "output_type": "execute_result"
    }
   ],
   "source": [
    "name = re.compile(r'[A-Z][a-z]*\\sWatanabe')\n",
    "reg2 = re.compile(r'^\\d{1,3}(,\\d{3})*$')\n",
    "mo2 = name.search('Robocop Watanabe')\n",
    "mo2.group()"
   ]
  },
  {
   "cell_type": "markdown",
   "id": "c9a3bc06",
   "metadata": {},
   "source": [
    "Q.[22] : How would you write a regex that matches a sentence where the first word is either Alice, Bob,or Carol; the second          word is either eats, pets, or throws; the third word is apples, cats, or baseballs; and the sentence ends with a            period? This regex should be case-insensitive. It must match the following:\n",
    "\n",
    "        'Alice eats apples.'\n",
    "        'Bob pets cats.'\n",
    "        'Carol throws baseballs.'\n",
    "        'Alice throws Apples.'\n",
    "        'BOB EATS CATS.'\n",
    "\n",
    "        but not the following:\n",
    "\n",
    "       'RoboCop eats apples.'\n",
    "       'ALICE THROWS FOOTBALLS.'\n",
    "       'Carol eats 7 cats.'\n",
    "\n",
    "Ans:-"
   ]
  },
  {
   "cell_type": "code",
   "execution_count": 22,
   "id": "37185cff",
   "metadata": {},
   "outputs": [
    {
     "data": {
      "text/plain": [
       "'Alice eats apples.'"
      ]
     },
     "execution_count": 22,
     "metadata": {},
     "output_type": "execute_result"
    }
   ],
   "source": [
    "name = re.compile(r'(Alice|Bob|Carol)\\s(eats|pets|throws)\\s(apples|cats|baseballs)\\.', re.IGNORECASE)\n",
    "\n",
    "mo2 = name.search('Alice eats apples.')\n",
    "mo2.group()"
   ]
  },
  {
   "cell_type": "code",
   "execution_count": 23,
   "id": "c7b45638",
   "metadata": {},
   "outputs": [
    {
     "data": {
      "text/plain": [
       "'Carol throws baseballs.'"
      ]
     },
     "execution_count": 23,
     "metadata": {},
     "output_type": "execute_result"
    }
   ],
   "source": [
    "name = re.compile(r'(Alice|Bob|Carol)\\s(eats|pets|throws)\\s(apples|cats|baseballs)\\.', re.IGNORECASE)\n",
    "\n",
    "mo2 = name.search('Carol throws baseballs.')\n",
    "mo2.group()"
   ]
  },
  {
   "cell_type": "code",
   "execution_count": 24,
   "id": "c4e2c390",
   "metadata": {},
   "outputs": [
    {
     "data": {
      "text/plain": [
       "'Alice throws Apples.'"
      ]
     },
     "execution_count": 24,
     "metadata": {},
     "output_type": "execute_result"
    }
   ],
   "source": [
    "name = re.compile(r'(Alice|Bob|Carol)\\s(eats|pets|throws)\\s(apples|cats|baseballs)\\.', re.IGNORECASE)\n",
    "\n",
    "mo2 = name.search('Alice throws Apples.')\n",
    "mo2.group()"
   ]
  },
  {
   "cell_type": "code",
   "execution_count": 26,
   "id": "07eefd3b",
   "metadata": {},
   "outputs": [
    {
     "data": {
      "text/plain": [
       "'BOB EATS CATS.'"
      ]
     },
     "execution_count": 26,
     "metadata": {},
     "output_type": "execute_result"
    }
   ],
   "source": [
    "name = re.compile(r'(Alice|Bob|Carol)\\s(eats|pets|throws)\\s(apples|cats|baseballs)\\.', re.IGNORECASE)\n",
    "\n",
    "mo2 = name.search('BOB EATS CATS.')\n",
    "mo2.group()"
   ]
  },
  {
   "cell_type": "code",
   "execution_count": null,
   "id": "288dee29",
   "metadata": {},
   "outputs": [],
   "source": []
  }
 ],
 "metadata": {
  "kernelspec": {
   "display_name": "Python 3 (ipykernel)",
   "language": "python",
   "name": "python3"
  },
  "language_info": {
   "codemirror_mode": {
    "name": "ipython",
    "version": 3
   },
   "file_extension": ".py",
   "mimetype": "text/x-python",
   "name": "python",
   "nbconvert_exporter": "python",
   "pygments_lexer": "ipython3",
   "version": "3.9.12"
  }
 },
 "nbformat": 4,
 "nbformat_minor": 5
}
